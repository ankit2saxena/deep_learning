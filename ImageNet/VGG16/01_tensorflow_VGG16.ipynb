{
 "cells": [
  {
   "cell_type": "code",
   "execution_count": null,
   "metadata": {},
   "outputs": [],
   "source": [
    "import tensorflow as tf\n",
    "import numpy as np\n",
    "import matplotlib.pyplot as plt\n",
    "from scipy.misc import imread, imresize\n",
    "%matplotlib inline"
   ]
  },
  {
   "cell_type": "code",
   "execution_count": null,
   "metadata": {},
   "outputs": [],
   "source": [
    "np.random.seed(100)\n",
    "tf.reset_default_graph()\n",
    "tf.set_random_seed(100)"
   ]
  },
  {
   "cell_type": "code",
   "execution_count": null,
   "metadata": {},
   "outputs": [],
   "source": [
    "from imagenet_classes import class_names"
   ]
  },
  {
   "cell_type": "code",
   "execution_count": null,
   "metadata": {},
   "outputs": [],
   "source": [
    "input_shape = [224, 224]"
   ]
  },
  {
   "cell_type": "code",
   "execution_count": null,
   "metadata": {},
   "outputs": [],
   "source": [
    "def read_image(image_name):\n",
    "    data = imread(image_name, mode='RGB')\n",
    "    image = imresize(data, (input_shape[0], input_shape[1]))\n",
    "    return image\n",
    "\n",
    "def display_image(image):\n",
    "    plt.imshow(image)\n",
    "    plt.axis('off')"
   ]
  },
  {
   "cell_type": "code",
   "execution_count": null,
   "metadata": {},
   "outputs": [],
   "source": [
    "test_image_1 = read_image('test_images/laska.png')"
   ]
  },
  {
   "cell_type": "code",
   "execution_count": null,
   "metadata": {},
   "outputs": [],
   "source": [
    "test_image_2 = read_image('test_images/poodle.png')"
   ]
  },
  {
   "cell_type": "code",
   "execution_count": null,
   "metadata": {},
   "outputs": [],
   "source": [
    "test_image_3 = read_image('test_images/quail227.JPEG')"
   ]
  },
  {
   "cell_type": "code",
   "execution_count": null,
   "metadata": {},
   "outputs": [],
   "source": [
    "test_image_4 = read_image('test_images/dog.png')"
   ]
  },
  {
   "cell_type": "code",
   "execution_count": null,
   "metadata": {},
   "outputs": [],
   "source": [
    "test_image_5 = read_image('test_images/dog2.png')"
   ]
  },
  {
   "cell_type": "markdown",
   "metadata": {},
   "source": [
    "# Input Image Shape"
   ]
  },
  {
   "cell_type": "code",
   "execution_count": null,
   "metadata": {},
   "outputs": [],
   "source": [
    "test_image_1.shape"
   ]
  },
  {
   "cell_type": "markdown",
   "metadata": {},
   "source": [
    "# Load model weights"
   ]
  },
  {
   "cell_type": "code",
   "execution_count": null,
   "metadata": {},
   "outputs": [],
   "source": [
    "vgg_model_weights = np.load('vgg16_weights.npz')\n",
    "vgg_model_keys = sorted(vgg_model_weights.keys())\n",
    "\n",
    "for i, k in enumerate(vgg_model_keys):\n",
    "    print(\"Index:{0:3}, \\tName: {k}, \\tShape: {shape}\".format(i, k = k, shape = np.shape(vgg_model_weights[k])))"
   ]
  },
  {
   "cell_type": "markdown",
   "metadata": {},
   "source": [
    "# Kernel Shape"
   ]
  },
  {
   "cell_type": "code",
   "execution_count": null,
   "metadata": {},
   "outputs": [],
   "source": [
    "std_dev = 1e-1\n",
    "pool_shape = [1, 2, 2, 1]\n",
    "weights = []\n",
    "\n",
    "#conv1\n",
    "conv1_1_kernel_shape = list(vgg_model_weights[vgg_model_keys[0]].shape)\n",
    "conv1_1_bias_shape = list(vgg_model_weights[vgg_model_keys[1]].shape)\n",
    "\n",
    "conv1_2_kernel_shape = list(vgg_model_weights[vgg_model_keys[2]].shape)\n",
    "conv1_2_bias_shape = list(vgg_model_weights[vgg_model_keys[3]].shape)\n",
    "\n",
    "#conv2\n",
    "conv2_1_kernel_shape = list(vgg_model_weights[vgg_model_keys[4]].shape)\n",
    "conv2_1_bias_shape = list(vgg_model_weights[vgg_model_keys[5]].shape)\n",
    "\n",
    "conv2_2_kernel_shape = list(vgg_model_weights[vgg_model_keys[6]].shape)\n",
    "conv2_2_bias_shape = list(vgg_model_weights[vgg_model_keys[7]].shape)\n",
    "\n",
    "#conv3\n",
    "conv3_1_kernel_shape = list(vgg_model_weights[vgg_model_keys[8]].shape)\n",
    "conv3_1_bias_shape = list(vgg_model_weights[vgg_model_keys[9]].shape)\n",
    "\n",
    "conv3_2_kernel_shape = list(vgg_model_weights[vgg_model_keys[10]].shape)\n",
    "conv3_2_bias_shape = list(vgg_model_weights[vgg_model_keys[11]].shape)\n",
    "\n",
    "conv3_3_kernel_shape = list(vgg_model_weights[vgg_model_keys[12]].shape)\n",
    "conv3_3_bias_shape = list(vgg_model_weights[vgg_model_keys[13]].shape)\n",
    "\n",
    "#conv4\n",
    "conv4_1_kernel_shape = list(vgg_model_weights[vgg_model_keys[14]].shape)\n",
    "conv4_1_bias_shape = list(vgg_model_weights[vgg_model_keys[15]].shape)\n",
    "\n",
    "conv4_2_kernel_shape = list(vgg_model_weights[vgg_model_keys[16]].shape)\n",
    "conv4_2_bias_shape = list(vgg_model_weights[vgg_model_keys[17]].shape)\n",
    "\n",
    "conv4_3_kernel_shape = list(vgg_model_weights[vgg_model_keys[18]].shape)\n",
    "conv4_3_bias_shape = list(vgg_model_weights[vgg_model_keys[19]].shape)\n",
    "\n",
    "#conv5\n",
    "conv5_1_kernel_shape = list(vgg_model_weights[vgg_model_keys[20]].shape)\n",
    "conv5_1_bias_shape = list(vgg_model_weights[vgg_model_keys[21]].shape)\n",
    "\n",
    "conv5_2_kernel_shape = list(vgg_model_weights[vgg_model_keys[22]].shape)\n",
    "conv5_2_bias_shape = list(vgg_model_weights[vgg_model_keys[23]].shape)\n",
    "\n",
    "conv5_3_kernel_shape = list(vgg_model_weights[vgg_model_keys[24]].shape)\n",
    "conv5_3_bias_shape = list(vgg_model_weights[vgg_model_keys[25]].shape)\n",
    "\n",
    "#fc1\n",
    "fc1_w_shape = list(vgg_model_weights[vgg_model_keys[26]].shape)\n",
    "fc1_b_shape = list(vgg_model_weights[vgg_model_keys[27]].shape)\n",
    "\n",
    "#fc2\n",
    "fc2_w_shape = list(vgg_model_weights[vgg_model_keys[28]].shape)\n",
    "fc2_b_shape = list(vgg_model_weights[vgg_model_keys[29]].shape)\n",
    "\n",
    "#fc3\n",
    "fc3_w_shape = list(vgg_model_weights[vgg_model_keys[30]].shape)\n",
    "fc3_b_shape = list(vgg_model_weights[vgg_model_keys[31]].shape)"
   ]
  },
  {
   "cell_type": "markdown",
   "metadata": {},
   "source": [
    "# Model"
   ]
  },
  {
   "cell_type": "code",
   "execution_count": null,
   "metadata": {},
   "outputs": [],
   "source": [
    "with tf.name_scope('input'):\n",
    "    X = tf.placeholder(tf.float32, shape = [None, input_shape[0], input_shape[1], 3])\n",
    "    mean = tf.constant([123.68, 116.779, 103.939], dtype = tf.float32, shape = [1, 1, 1, 3], name = 'image_mean')\n",
    "    X_centered = X - mean\n",
    "\n",
    "#conv1\n",
    "with tf.name_scope('conv1_1'):\n",
    "    kernel = tf.Variable(tf.truncated_normal(shape=conv1_1_kernel_shape, dtype = tf.float32, stddev = std_dev), \n",
    "                         name = 'weights')\n",
    "    conv = tf.nn.conv2d(X_centered, kernel, [1, 1, 1, 1], padding = 'SAME')\n",
    "    biases = tf.Variable(tf.constant(0.0, shape = conv1_1_bias_shape, dtype=tf.float32), \n",
    "                         trainable=True, name = 'biases')\n",
    "    \n",
    "    output = tf.nn.bias_add(conv, biases)\n",
    "    conv1_1 = tf.nn.relu(output, name = 'conv1_1')\n",
    "    weights.append(kernel)\n",
    "    weights.append(biases)\n",
    "    \n",
    "with tf.name_scope('conv1_2'):\n",
    "    kernel = tf.Variable(tf.truncated_normal(shape=conv1_2_kernel_shape, dtype = tf.float32, stddev = std_dev), \n",
    "                         name = 'weights')\n",
    "    conv = tf.nn.conv2d(conv1_1, kernel, [1, 1, 1, 1], padding = 'SAME')\n",
    "    biases = tf.Variable(tf.constant(0.0, shape = conv1_2_bias_shape, dtype=tf.float32), \n",
    "                         trainable=True, name = 'biases')\n",
    "    \n",
    "    output = tf.nn.bias_add(conv, biases)\n",
    "    conv1_2 = tf.nn.relu(output, name = 'conv1_2')\n",
    "    weights.append(kernel)\n",
    "    weights.append(biases)\n",
    "    \n",
    "with tf.name_scope('pool1'):\n",
    "    pool1 = tf.nn.max_pool(conv1_2, ksize = pool_shape, strides = pool_shape, padding = 'SAME', name = 'pool1')\n",
    "\n",
    "    \n",
    "#conv2\n",
    "with tf.name_scope('conv2_1'):\n",
    "    kernel = tf.Variable(tf.truncated_normal(shape=conv2_1_kernel_shape, dtype = tf.float32, stddev = std_dev), \n",
    "                         name = 'weights')\n",
    "    conv = tf.nn.conv2d(pool1, kernel, [1, 1, 1, 1], padding = 'SAME')\n",
    "    biases = tf.Variable(tf.constant(0.0, shape = conv2_1_bias_shape, dtype=tf.float32), \n",
    "                         trainable=True, name = 'biases')\n",
    "    \n",
    "    output = tf.nn.bias_add(conv, biases)\n",
    "    conv2_1 = tf.nn.relu(output, name = 'conv2_1')\n",
    "    weights.append(kernel)\n",
    "    weights.append(biases)\n",
    "    \n",
    "with tf.name_scope('conv2_2'):\n",
    "    kernel = tf.Variable(tf.truncated_normal(shape=conv2_2_kernel_shape, dtype = tf.float32, stddev = std_dev), \n",
    "                         name = 'weights')\n",
    "    conv = tf.nn.conv2d(conv2_1, kernel, [1, 1, 1, 1], padding = 'SAME')\n",
    "    biases = tf.Variable(tf.constant(0.0, shape = conv2_2_bias_shape, dtype=tf.float32), \n",
    "                         trainable=True, name = 'biases')\n",
    "    \n",
    "    output = tf.nn.bias_add(conv, biases)\n",
    "    conv2_2 = tf.nn.relu(output, name = 'conv2_2')\n",
    "    weights.append(kernel)\n",
    "    weights.append(biases)\n",
    "    \n",
    "with tf.name_scope('pool2'):\n",
    "    pool2 = tf.nn.max_pool(conv2_2, ksize = pool_shape, strides = pool_shape, padding = 'SAME', name = 'pool2')\n",
    "\n",
    "\n",
    "#conv3\n",
    "with tf.name_scope('conv3_1'):\n",
    "    kernel = tf.Variable(tf.truncated_normal(shape=conv3_1_kernel_shape, dtype = tf.float32, stddev = std_dev), \n",
    "                         name = 'weights')\n",
    "    conv = tf.nn.conv2d(pool2, kernel, [1, 1, 1, 1], padding = 'SAME')\n",
    "    biases = tf.Variable(tf.constant(0.0, shape = conv3_1_bias_shape, dtype=tf.float32), \n",
    "                         trainable=True, name = 'biases')\n",
    "    \n",
    "    output = tf.nn.bias_add(conv, biases)\n",
    "    conv3_1 = tf.nn.relu(output, name = 'conv3_1')\n",
    "    weights.append(kernel)\n",
    "    weights.append(biases)\n",
    "    \n",
    "with tf.name_scope('conv3_2'):\n",
    "    kernel = tf.Variable(tf.truncated_normal(shape=conv3_2_kernel_shape, dtype = tf.float32, stddev = std_dev), \n",
    "                         name = 'weights')\n",
    "    conv = tf.nn.conv2d(conv3_1, kernel, [1, 1, 1, 1], padding = 'SAME')\n",
    "    biases = tf.Variable(tf.constant(0.0, shape = conv3_2_bias_shape, dtype=tf.float32), \n",
    "                         trainable=True, name = 'biases')\n",
    "    \n",
    "    output = tf.nn.bias_add(conv, biases)\n",
    "    conv3_2 = tf.nn.relu(output, name = 'conv3_2')\n",
    "    weights.append(kernel)\n",
    "    weights.append(biases)\n",
    "    \n",
    "with tf.name_scope('conv3_3'):\n",
    "    kernel = tf.Variable(tf.truncated_normal(shape=conv3_3_kernel_shape, dtype = tf.float32, stddev = std_dev), \n",
    "                         name = 'weights')\n",
    "    conv = tf.nn.conv2d(conv3_2, kernel, [1, 1, 1, 1], padding = 'SAME')\n",
    "    biases = tf.Variable(tf.constant(0.0, shape = conv3_3_bias_shape, dtype=tf.float32), \n",
    "                         trainable=True, name = 'biases')\n",
    "    \n",
    "    output = tf.nn.bias_add(conv, biases)\n",
    "    conv3_3 = tf.nn.relu(output, name = 'conv3_3')\n",
    "    weights.append(kernel)\n",
    "    weights.append(biases)\n",
    "    \n",
    "with tf.name_scope('pool3'):\n",
    "    pool3 = tf.nn.max_pool(conv3_3, ksize = pool_shape, strides = pool_shape, padding = 'SAME', name = 'pool3')\n",
    "    \n",
    "\n",
    "#conv4\n",
    "with tf.name_scope('conv4_1'):\n",
    "    kernel = tf.Variable(tf.truncated_normal(shape=conv4_1_kernel_shape, dtype = tf.float32, stddev = std_dev), \n",
    "                         name = 'weights')\n",
    "    conv = tf.nn.conv2d(pool3, kernel, [1, 1, 1, 1], padding = 'SAME')\n",
    "    biases = tf.Variable(tf.constant(0.0, shape = conv4_1_bias_shape, dtype=tf.float32), \n",
    "                         trainable=True, name = 'biases')\n",
    "    \n",
    "    output = tf.nn.bias_add(conv, biases)\n",
    "    conv4_1 = tf.nn.relu(output, name = 'conv4_1')\n",
    "    weights.append(kernel)\n",
    "    weights.append(biases)\n",
    "    \n",
    "with tf.name_scope('conv4_2'):\n",
    "    kernel = tf.Variable(tf.truncated_normal(shape=conv4_2_kernel_shape, dtype = tf.float32, stddev = std_dev), \n",
    "                         name = 'weights')\n",
    "    conv = tf.nn.conv2d(conv4_1, kernel, [1, 1, 1, 1], padding = 'SAME')\n",
    "    biases = tf.Variable(tf.constant(0.0, shape = conv4_2_bias_shape, dtype=tf.float32), \n",
    "                         trainable=True, name = 'biases')\n",
    "    \n",
    "    output = tf.nn.bias_add(conv, biases)\n",
    "    conv4_2 = tf.nn.relu(output, name = 'conv4_2')\n",
    "    weights.append(kernel)\n",
    "    weights.append(biases)\n",
    "    \n",
    "with tf.name_scope('conv4_3'):\n",
    "    kernel = tf.Variable(tf.truncated_normal(shape=conv4_3_kernel_shape, dtype = tf.float32, stddev = std_dev), \n",
    "                         name = 'weights')\n",
    "    conv = tf.nn.conv2d(conv4_2, kernel, [1, 1, 1, 1], padding = 'SAME')\n",
    "    biases = tf.Variable(tf.constant(0.0, shape = conv4_3_bias_shape, dtype=tf.float32), \n",
    "                         trainable=True, name = 'biases')\n",
    "    \n",
    "    output = tf.nn.bias_add(conv, biases)\n",
    "    conv4_3 = tf.nn.relu(output, name = 'conv4_3')\n",
    "    weights.append(kernel)\n",
    "    weights.append(biases)\n",
    "    \n",
    "with tf.name_scope('pool4'):\n",
    "    pool4 = tf.nn.max_pool(conv4_3, ksize = pool_shape, strides = pool_shape, padding = 'SAME', name = 'pool4')\n",
    "    \n",
    "    \n",
    "#conv5\n",
    "with tf.name_scope('conv5_1'):\n",
    "    kernel = tf.Variable(tf.truncated_normal(shape=conv5_1_kernel_shape, dtype = tf.float32, stddev = std_dev), \n",
    "                         name = 'weights')\n",
    "    conv = tf.nn.conv2d(pool4, kernel, [1, 1, 1, 1], padding = 'SAME')\n",
    "    biases = tf.Variable(tf.constant(0.0, shape = conv5_1_bias_shape, dtype=tf.float32), \n",
    "                         trainable=True, name = 'biases')\n",
    "    \n",
    "    output = tf.nn.bias_add(conv, biases)\n",
    "    conv5_1 = tf.nn.relu(output, name = 'conv5_1')\n",
    "    weights.append(kernel)\n",
    "    weights.append(biases)\n",
    "    \n",
    "with tf.name_scope('conv5_2'):\n",
    "    kernel = tf.Variable(tf.truncated_normal(shape=conv5_2_kernel_shape, dtype = tf.float32, stddev = std_dev), \n",
    "                         name = 'weights')\n",
    "    conv = tf.nn.conv2d(conv5_1, kernel, [1, 1, 1, 1], padding = 'SAME')\n",
    "    biases = tf.Variable(tf.constant(0.0, shape = conv5_2_bias_shape, dtype=tf.float32), \n",
    "                         trainable=True, name = 'biases')\n",
    "    \n",
    "    output = tf.nn.bias_add(conv, biases)\n",
    "    conv5_2 = tf.nn.relu(output, name = 'conv5_2')\n",
    "    weights.append(kernel)\n",
    "    weights.append(biases)\n",
    "    \n",
    "with tf.name_scope('conv5_3'):\n",
    "    kernel = tf.Variable(tf.truncated_normal(shape=conv5_3_kernel_shape, dtype = tf.float32, stddev = std_dev), \n",
    "                         name = 'weights')\n",
    "    conv = tf.nn.conv2d(conv5_2, kernel, [1, 1, 1, 1], padding = 'SAME')\n",
    "    biases = tf.Variable(tf.constant(0.0, shape = conv5_3_bias_shape, dtype=tf.float32), \n",
    "                         trainable=True, name = 'biases')\n",
    "    \n",
    "    output = tf.nn.bias_add(conv, biases)\n",
    "    conv5_3 = tf.nn.relu(output, name = 'conv5_3')\n",
    "    weights.append(kernel)\n",
    "    weights.append(biases)\n",
    "    \n",
    "with tf.name_scope('pool5'):\n",
    "    pool5 = tf.nn.max_pool(conv5_3, ksize = pool_shape, strides = pool_shape, padding = 'SAME', name = 'pool5')\n",
    "    \n",
    "\n",
    "pool5_flat = tf.reshape(pool5, [-1, fc1_w_shape[0]])\n",
    "\n",
    "\n",
    "#fc1\n",
    "with tf.name_scope('fc1'):\n",
    "    fc1_w = tf.Variable(tf.truncated_normal(shape = fc1_w_shape, dtype = tf.float32, stddev = std_dev)\n",
    "                        , name = 'weights')\n",
    "    fc1_b = tf.Variable(tf.constant(1.0, shape = fc1_b_shape, dtype=tf.float32),\n",
    "                       trainable = True, name = 'biases')\n",
    "    output = tf.nn.bias_add(tf.matmul(pool5_flat, fc1_w), fc1_b)\n",
    "    fc1 = tf.nn.relu(output)\n",
    "    weights.append(fc1_w)\n",
    "    weights.append(fc1_b)\n",
    "    \n",
    "    \n",
    "#fc2\n",
    "with tf.name_scope('fc2'):\n",
    "    fc2_w = tf.Variable(tf.truncated_normal(shape = fc2_w_shape, dtype = tf.float32, stddev = std_dev)\n",
    "                        , name = 'weights')\n",
    "    fc2_b = tf.Variable(tf.constant(1.0, shape = fc2_b_shape, dtype=tf.float32),\n",
    "                       trainable = True, name = 'biases')\n",
    "    output = tf.nn.bias_add(tf.matmul(fc1, fc2_w), fc2_b)\n",
    "    fc2 = tf.nn.relu(output)\n",
    "    weights.append(fc2_w)\n",
    "    weights.append(fc2_b)\n",
    "\n",
    "    \n",
    "#fc3\n",
    "with tf.name_scope('fc3'):\n",
    "    fc3_w = tf.Variable(tf.truncated_normal(shape = fc3_w_shape, dtype = tf.float32, stddev = std_dev)\n",
    "                        , name = 'weights')\n",
    "    fc3_b = tf.Variable(tf.constant(1.0, shape = fc3_b_shape, dtype=tf.float32),\n",
    "                       trainable = True, name = 'biases')\n",
    "    output = tf.nn.bias_add(tf.matmul(fc2, fc3_w), fc3_b)\n",
    "    fc3 = tf.nn.relu(output)\n",
    "    weights.append(fc3_w)\n",
    "    weights.append(fc3_b)\n",
    "    \n",
    "\n",
    "#eval\n",
    "with tf.name_scope('eval'):\n",
    "    predict = tf.nn.softmax(fc3)"
   ]
  },
  {
   "cell_type": "code",
   "execution_count": null,
   "metadata": {},
   "outputs": [],
   "source": [
    "init = tf.global_variables_initializer()\n",
    "saver = tf.train.Saver()"
   ]
  },
  {
   "cell_type": "code",
   "execution_count": null,
   "metadata": {},
   "outputs": [],
   "source": [
    "with tf.Session() as sess:\n",
    "    init.run()\n",
    "    for i, k in enumerate(vgg_model_keys):\n",
    "        print(\"Index:{0:3}, \\tName: {k}, \\tShape: {shape}\".format(i, k = k, shape = np.shape(vgg_model_weights[k])))\n",
    "        sess.run(tf.assign(weights[i], vgg_model_weights[k]))\n",
    "        pass\n",
    "    \n",
    "    saver.save(sess, \"./vgg16.ckpt\")\n",
    "    pass"
   ]
  },
  {
   "cell_type": "code",
   "execution_count": null,
   "metadata": {},
   "outputs": [],
   "source": [
    "with tf.Session() as sess:\n",
    "    saver.restore(sess, \"./vgg16.ckpt\")\n",
    "    prediction_probs = sess.run(predict, feed_dict={X: [test_image_1, test_image_2, test_image_3,\n",
    "                                                       test_image_4, test_image_5]})"
   ]
  },
  {
   "cell_type": "code",
   "execution_count": null,
   "metadata": {},
   "outputs": [],
   "source": [
    "prediction_image_1 = np.argsort(prediction_probs[0])[::-1][0:5]\n",
    "prediction_prob_1 = prediction_probs[0]"
   ]
  },
  {
   "cell_type": "code",
   "execution_count": null,
   "metadata": {},
   "outputs": [],
   "source": [
    "prediction_image_2 = np.argsort(prediction_probs[1])[::-1][0:5]\n",
    "prediction_prob_2 = prediction_probs[1]"
   ]
  },
  {
   "cell_type": "code",
   "execution_count": null,
   "metadata": {},
   "outputs": [],
   "source": [
    "prediction_image_3 = np.argsort(prediction_probs[2])[::-1][0:5]\n",
    "prediction_prob_3 = prediction_probs[2]"
   ]
  },
  {
   "cell_type": "code",
   "execution_count": null,
   "metadata": {},
   "outputs": [],
   "source": [
    "prediction_image_4 = np.argsort(prediction_probs[3])[::-1][0:5]\n",
    "prediction_prob_4 = prediction_probs[3]"
   ]
  },
  {
   "cell_type": "code",
   "execution_count": null,
   "metadata": {},
   "outputs": [],
   "source": [
    "prediction_image_5 = np.argsort(prediction_probs[4])[::-1][0:5]\n",
    "prediction_prob_5 = prediction_probs[4]"
   ]
  },
  {
   "cell_type": "code",
   "execution_count": null,
   "metadata": {},
   "outputs": [],
   "source": [
    "display_image(test_image_1)"
   ]
  },
  {
   "cell_type": "code",
   "execution_count": null,
   "metadata": {},
   "outputs": [],
   "source": [
    "image_results_1 = [(class_names[i], prediction_prob_1[i]) for i in prediction_image_1]\n",
    "print(image_results_1)"
   ]
  },
  {
   "cell_type": "code",
   "execution_count": null,
   "metadata": {},
   "outputs": [],
   "source": [
    "display_image(test_image_2)"
   ]
  },
  {
   "cell_type": "code",
   "execution_count": null,
   "metadata": {},
   "outputs": [],
   "source": [
    "image_results_2 = [(class_names[i], prediction_prob_2[i]) for i in prediction_image_2]\n",
    "print(image_results_2)"
   ]
  },
  {
   "cell_type": "code",
   "execution_count": null,
   "metadata": {},
   "outputs": [],
   "source": [
    "display_image(test_image_3)"
   ]
  },
  {
   "cell_type": "code",
   "execution_count": null,
   "metadata": {},
   "outputs": [],
   "source": [
    "image_results_3 = [(class_names[i], prediction_prob_3[i]) for i in prediction_image_3]\n",
    "print(image_results_3)"
   ]
  },
  {
   "cell_type": "code",
   "execution_count": null,
   "metadata": {},
   "outputs": [],
   "source": [
    "display_image(test_image_4)"
   ]
  },
  {
   "cell_type": "code",
   "execution_count": null,
   "metadata": {},
   "outputs": [],
   "source": [
    "image_results_4 = [(class_names[i], prediction_prob_4[i]) for i in prediction_image_4]\n",
    "print(image_results_4)"
   ]
  },
  {
   "cell_type": "code",
   "execution_count": null,
   "metadata": {},
   "outputs": [],
   "source": [
    "display_image(test_image_5)"
   ]
  },
  {
   "cell_type": "code",
   "execution_count": null,
   "metadata": {},
   "outputs": [],
   "source": [
    "image_results_5 = [(class_names[i], prediction_prob_5[i]) for i in prediction_image_5]\n",
    "print(image_results_5)"
   ]
  }
 ],
 "metadata": {
  "kernelspec": {
   "display_name": "Python 3",
   "language": "python",
   "name": "python3"
  },
  "language_info": {
   "codemirror_mode": {
    "name": "ipython",
    "version": 3
   },
   "file_extension": ".py",
   "mimetype": "text/x-python",
   "name": "python",
   "nbconvert_exporter": "python",
   "pygments_lexer": "ipython3",
   "version": "3.6.8"
  }
 },
 "nbformat": 4,
 "nbformat_minor": 2
}
