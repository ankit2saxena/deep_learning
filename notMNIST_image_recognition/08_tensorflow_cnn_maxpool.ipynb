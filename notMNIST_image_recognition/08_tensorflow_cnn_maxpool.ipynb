{
 "cells": [
  {
   "cell_type": "code",
   "execution_count": 1,
   "metadata": {
    "collapsed": true
   },
   "outputs": [],
   "source": [
    "import tensorflow as tf\n",
    "import numpy as np\n",
    "import matplotlib.pyplot as plt\n",
    "%matplotlib inline\n",
    "\n",
    "from six.moves import cPickle as pickle"
   ]
  },
  {
   "cell_type": "code",
   "execution_count": 2,
   "metadata": {
    "collapsed": false
   },
   "outputs": [
    {
     "name": "stdout",
     "output_type": "stream",
     "text": [
      "('Training set', (200000, 28, 28), (200000,))\n",
      "('Test set', (10000, 28, 28), (10000,))\n",
      "('Validation set', (10000, 28, 28), (10000,))\n"
     ]
    }
   ],
   "source": [
    "pickle_file = 'notMNIST.pickle'\n",
    "\n",
    "with open(pickle_file, 'rb') as f:\n",
    "    save = pickle.load(f)\n",
    "    train_dataset = save['train_dataset']\n",
    "    train_labels = save['train_labels']\n",
    "    valid_dataset = save['valid_dataset']\n",
    "    valid_labels = save['valid_labels']\n",
    "    test_dataset = save['test_dataset']\n",
    "    test_labels = save['test_labels']\n",
    "    del save\n",
    "    print('Training set', train_dataset.shape, train_labels.shape)\n",
    "    print('Test set', test_dataset.shape, test_labels.shape)\n",
    "    print('Validation set', valid_dataset.shape, valid_labels.shape)"
   ]
  },
  {
   "cell_type": "code",
   "execution_count": 3,
   "metadata": {
    "collapsed": false
   },
   "outputs": [
    {
     "name": "stdout",
     "output_type": "stream",
     "text": [
      "('Training set', (200000, 28, 28, 1), (200000,))\n",
      "('Test set', (10000, 28, 28, 1), (10000,))\n",
      "('Validation set', (10000, 28, 28, 1), (10000,))\n"
     ]
    }
   ],
   "source": [
    "image_height = 28\n",
    "image_width = 28\n",
    "num_channels = 1\n",
    "num_labels = 10\n",
    "\n",
    "train_dataset = train_dataset.reshape((-1, image_height, image_width, num_channels)).astype(np.float32)\n",
    "test_dataset = test_dataset.reshape((-1, image_height, image_width, num_channels)).astype(np.float32)\n",
    "valid_dataset = valid_dataset.reshape((-1, image_height, image_width, num_channels)).astype(np.float32)\n",
    "\n",
    "print('Training set', train_dataset.shape, train_labels.shape)\n",
    "print('Test set', test_dataset.shape, test_labels.shape)\n",
    "print('Validation set', valid_dataset.shape, valid_labels.shape)"
   ]
  },
  {
   "cell_type": "code",
   "execution_count": 4,
   "metadata": {
    "collapsed": true
   },
   "outputs": [],
   "source": [
    "def plot_image(data):\n",
    "    image = data.reshape(28, 28)\n",
    "    plt.imshow(image, cmap = 'Greys', interpolation=\"nearest\")\n",
    "    plt.axis(\"off\")\n",
    "    pass"
   ]
  },
  {
   "cell_type": "code",
   "execution_count": 5,
   "metadata": {
    "collapsed": false
   },
   "outputs": [
    {
     "data": {
      "image/png": "[encoded data removed]",
      "text/plain": [
       "<matplotlib.figure.Figure at 0x7fed2e6dd790>"
      ]
     },
     "metadata": {},
     "output_type": "display_data"
    }
   ],
   "source": [
    "plot_image(train_dataset[7])"
   ]
  },
  {
   "cell_type": "code",
   "execution_count": 6,
   "metadata": {
    "collapsed": false
   },
   "outputs": [
    {
     "data": {
      "text/plain": [
       "9"
      ]
     },
     "execution_count": 6,
     "metadata": {},
     "output_type": "execute_result"
    }
   ],
   "source": [
    "train_labels[7]"
   ]
  },
  {
   "cell_type": "markdown",
   "metadata": {},
   "source": [
    "# CNN with max-pool"
   ]
  },
  {
   "cell_type": "code",
   "execution_count": 7,
   "metadata": {
    "collapsed": false
   },
   "outputs": [],
   "source": [
    "kernel_size = 5\n",
    "depth = 16\n",
    "num_hidden = 64\n",
    "batch_size = 50\n",
    "epochs = 101\n",
    "\n",
    "tf.reset_default_graph()\n",
    "\n",
    "with tf.name_scope('dnn'):\n",
    "    tf_dataset = tf.placeholder(tf.float32, shape = (None, image_width, image_width, num_channels))\n",
    "    tf_labels = tf.placeholder(tf.int64, shape = (None))\n",
    "    \n",
    "    layer1_weights = tf.Variable(tf.truncated_normal([kernel_size, kernel_size, num_channels, depth], stddev=0.1))\n",
    "    layer1_biases = tf.Variable(tf.zeros([depth]))\n",
    "    \n",
    "    layer2_biases = tf.Variable(tf.zeros([depth]))\n",
    "    \n",
    "    layer3_weights = tf.Variable(tf.truncated_normal([image_width // 4 * image_height //4 * depth, num_hidden], \n",
    "                                                     stddev=0.1))\n",
    "    layer3_biases = tf.Variable(tf.constant(1.0, shape = [num_hidden]))\n",
    "    \n",
    "    layer4_weights = tf.Variable(tf.truncated_normal([num_hidden, num_labels], stddev=0.1))\n",
    "    layer4_biases = tf.Variable(tf.constant(1.0, shape = [num_labels]))\n",
    "    \n",
    "    conv = tf.nn.conv2d(tf_dataset, layer1_weights, strides = [1, 2, 2, 1], padding='SAME')\n",
    "    hidden = tf.nn.relu(conv + layer1_biases)\n",
    "    conv = tf.nn.max_pool(hidden, ksize = [1, 2, 2, 1], strides = [1, 2, 2, 1], padding='SAME')\n",
    "    hidden = tf.nn.relu(conv + layer2_biases)\n",
    "    shape = hidden.get_shape().as_list()\n",
    "    reshape = tf.reshape(hidden, [-1, shape[1] * shape[2] * shape[3]])\n",
    "    hidden = tf.nn.relu(tf.matmul(reshape, layer3_weights) + layer3_biases)\n",
    "    logits = tf.matmul(hidden, layer4_weights) + layer4_biases\n",
    "    pass\n",
    "\n",
    "with tf.name_scope('loss'):\n",
    "    xentropy = tf.nn.sparse_softmax_cross_entropy_with_logits(labels = tf_labels, logits=logits)\n",
    "    loss = tf.reduce_mean(xentropy)\n",
    "    loss_summary = tf.summary.scalar('log_loss', loss)\n",
    "    pass\n",
    "    \n",
    "with tf.name_scope('train'):\n",
    "    optimizer = tf.train.GradientDescentOptimizer(learning_rate=0.05)\n",
    "    training_op = optimizer.minimize(loss)\n",
    "    pass\n",
    "\n",
    "with tf.name_scope('eval'):\n",
    "    predicted = tf.nn.in_top_k(logits, tf_labels, 1)\n",
    "    accuracy = tf.reduce_mean(tf.cast(predicted, tf.float32))\n",
    "    accuracy_summary = tf.summary.scalar('accuracy', accuracy)\n",
    "    pass"
   ]
  },
  {
   "cell_type": "code",
   "execution_count": 8,
   "metadata": {
    "collapsed": false
   },
   "outputs": [],
   "source": [
    "init = tf.global_variables_initializer()\n",
    "saver = tf.train.Saver()\n",
    "file_writer = tf.summary.FileWriter('/tmp/notmnist/notmnist_dnn-CNN-maxpool', tf.get_default_graph())"
   ]
  },
  {
   "cell_type": "markdown",
   "metadata": {},
   "source": [
    "# Train the model"
   ]
  },
  {
   "cell_type": "code",
   "execution_count": 9,
   "metadata": {
    "collapsed": false
   },
   "outputs": [
    {
     "name": "stdout",
     "output_type": "stream",
     "text": [
      "Mini Batch Iteration 0, Train Loss: 0.506, Train Accuracy: 0.860\n",
      "Test Accuracy: 0.916, Validation Accuracy: 0.852\n",
      "\n",
      "\n",
      "Mini Batch Iteration 5, Train Loss: 0.123, Train Accuracy: 0.960\n",
      "Test Accuracy: 0.949, Validation Accuracy: 0.893\n",
      "\n",
      "\n",
      "Mini Batch Iteration 10, Train Loss: 0.083, Train Accuracy: 1.000\n",
      "Test Accuracy: 0.953, Validation Accuracy: 0.901\n",
      "\n",
      "\n",
      "Mini Batch Iteration 15, Train Loss: 0.139, Train Accuracy: 0.940\n",
      "Test Accuracy: 0.956, Validation Accuracy: 0.904\n",
      "\n",
      "\n",
      "Mini Batch Iteration 20, Train Loss: 0.373, Train Accuracy: 0.920\n",
      "Test Accuracy: 0.956, Validation Accuracy: 0.904\n",
      "\n",
      "\n",
      "Mini Batch Iteration 25, Train Loss: 0.251, Train Accuracy: 0.920\n",
      "Test Accuracy: 0.957, Validation Accuracy: 0.907\n",
      "\n",
      "\n",
      "Mini Batch Iteration 30, Train Loss: 0.219, Train Accuracy: 0.920\n",
      "Test Accuracy: 0.957, Validation Accuracy: 0.908\n",
      "\n",
      "\n",
      "Mini Batch Iteration 35, Train Loss: 0.165, Train Accuracy: 0.960\n",
      "Test Accuracy: 0.957, Validation Accuracy: 0.906\n",
      "\n",
      "\n",
      "Mini Batch Iteration 40, Train Loss: 0.116, Train Accuracy: 0.980\n",
      "Test Accuracy: 0.957, Validation Accuracy: 0.906\n",
      "\n",
      "\n",
      "Mini Batch Iteration 45, Train Loss: 0.170, Train Accuracy: 0.940\n",
      "Test Accuracy: 0.957, Validation Accuracy: 0.907\n",
      "\n",
      "\n",
      "Mini Batch Iteration 50, Train Loss: 0.346, Train Accuracy: 0.920\n",
      "Test Accuracy: 0.958, Validation Accuracy: 0.909\n",
      "\n",
      "\n",
      "Mini Batch Iteration 55, Train Loss: 0.074, Train Accuracy: 0.960\n",
      "Test Accuracy: 0.955, Validation Accuracy: 0.908\n",
      "\n",
      "\n",
      "Mini Batch Iteration 60, Train Loss: 0.006, Train Accuracy: 1.000\n",
      "Test Accuracy: 0.956, Validation Accuracy: 0.906\n",
      "\n",
      "\n",
      "Mini Batch Iteration 65, Train Loss: 0.181, Train Accuracy: 0.940\n",
      "Test Accuracy: 0.954, Validation Accuracy: 0.907\n",
      "\n",
      "\n",
      "Mini Batch Iteration 70, Train Loss: 0.218, Train Accuracy: 0.940\n",
      "Test Accuracy: 0.956, Validation Accuracy: 0.908\n",
      "\n",
      "\n",
      "Mini Batch Iteration 75, Train Loss: 0.100, Train Accuracy: 0.980\n",
      "Test Accuracy: 0.955, Validation Accuracy: 0.906\n",
      "\n",
      "\n",
      "Mini Batch Iteration 80, Train Loss: 0.196, Train Accuracy: 0.920\n",
      "Test Accuracy: 0.955, Validation Accuracy: 0.908\n",
      "\n",
      "\n",
      "Mini Batch Iteration 85, Train Loss: 0.166, Train Accuracy: 0.940\n",
      "Test Accuracy: 0.955, Validation Accuracy: 0.906\n",
      "\n",
      "\n",
      "Mini Batch Iteration 90, Train Loss: 0.048, Train Accuracy: 0.980\n",
      "Test Accuracy: 0.955, Validation Accuracy: 0.905\n",
      "\n",
      "\n",
      "Mini Batch Iteration 95, Train Loss: 0.042, Train Accuracy: 0.980\n",
      "Test Accuracy: 0.955, Validation Accuracy: 0.905\n",
      "\n",
      "\n",
      "Mini Batch Iteration 100, Train Loss: 0.063, Train Accuracy: 0.980\n",
      "Test Accuracy: 0.955, Validation Accuracy: 0.907\n",
      "\n",
      "\n"
     ]
    }
   ],
   "source": [
    "with tf.Session() as sess:\n",
    "    init.run()\n",
    "\n",
    "    for epoch in range(epochs):\n",
    "        for iteration in range(train_dataset.shape[0] // epochs):\n",
    "            batch_index = np.random.choice(train_labels.shape[0], batch_size)\n",
    "            batch_data, batch_labels = train_dataset[batch_index], train_labels[batch_index]\n",
    "            feed_dict = {tf_dataset: batch_data, tf_labels: batch_labels}\n",
    "            _, accuracy_val, loss_val = sess.run([training_op, accuracy, loss], feed_dict=feed_dict)\n",
    "        \n",
    "        test_acc_val = sess.run(accuracy, feed_dict = {tf_dataset: test_dataset, tf_labels: test_labels})\n",
    "        valid_acc_val, valid_loss_val, accuracy_summary_str, loss_summary_str = sess.run([accuracy, loss, accuracy_summary, loss_summary], \n",
    "                        feed_dict = {tf_dataset: valid_dataset, tf_labels: valid_labels})\n",
    "        file_writer.add_summary(accuracy_summary_str, epoch)\n",
    "        file_writer.add_summary(loss_summary_str, epoch)\n",
    "        \n",
    "        \n",
    "        if epoch % 5 == 0:\n",
    "            print ('Mini Batch Iteration %d, Train Loss: %.3f, Train Accuracy: %.3f' % (epoch, loss_val, accuracy_val))\n",
    "            print ('Test Accuracy: %.3f, Validation Accuracy: %.3f' % (test_acc_val, valid_acc_val))\n",
    "            print ('\\n')\n",
    "            \n",
    "    save_path = saver.save(sess, \"./model8.ckpt\")\n",
    "    pass"
   ]
  },
  {
   "cell_type": "code",
   "execution_count": null,
   "metadata": {
    "collapsed": true
   },
   "outputs": [],
   "source": []
  }
 ],
 "metadata": {
  "kernelspec": {
   "display_name": "Python 2",
   "language": "python",
   "name": "python2"
  },
  "language_info": {
   "codemirror_mode": {
    "name": "ipython",
    "version": 2
   },
   "file_extension": ".py",
   "mimetype": "text/x-python",
   "name": "python",
   "nbconvert_exporter": "python",
   "pygments_lexer": "ipython2",
   "version": "2.7.13"
  }
 },
 "nbformat": 4,
 "nbformat_minor": 2
}
