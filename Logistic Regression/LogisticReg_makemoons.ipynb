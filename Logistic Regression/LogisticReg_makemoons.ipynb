{
 "cells": [
  {
   "cell_type": "code",
   "execution_count": 1,
   "metadata": {
    "collapsed": true
   },
   "outputs": [],
   "source": [
    "from sklearn.datasets import make_moons\n",
    "import numpy as np\n",
    "import os\n",
    "import tensorflow as tf\n",
    "\n",
    "tf.set_random_seed(100)\n",
    "np.random.seed(100)\n",
    "\n",
    "m = 1000\n",
    "X, y = make_moons(m, noise = 0.07, random_state = 100)"
   ]
  },
  {
   "cell_type": "code",
   "execution_count": 2,
   "metadata": {
    "collapsed": true
   },
   "outputs": [],
   "source": [
    "import matplotlib.pyplot as plt\n",
    "%matplotlib inline"
   ]
  },
  {
   "cell_type": "code",
   "execution_count": 3,
   "metadata": {
    "collapsed": false
   },
   "outputs": [
    {
     "data": {
      "text/plain": [
       "(1000, 2)"
      ]
     },
     "execution_count": 3,
     "metadata": {},
     "output_type": "execute_result"
    }
   ],
   "source": [
    "X.shape"
   ]
  },
  {
   "cell_type": "code",
   "execution_count": 4,
   "metadata": {
    "collapsed": false
   },
   "outputs": [
    {
     "data": {
      "text/plain": [
       "(1000,)"
      ]
     },
     "execution_count": 4,
     "metadata": {},
     "output_type": "execute_result"
    }
   ],
   "source": [
    "y.shape"
   ]
  },
  {
   "cell_type": "code",
   "execution_count": 5,
   "metadata": {
    "collapsed": false
   },
   "outputs": [
    {
     "data": {
      "image/png": "[encoded data removed]",
      "text/plain": [
       "<matplotlib.figure.Figure at 0x7ff8dff68190>"
      ]
     },
     "metadata": {},
     "output_type": "display_data"
    }
   ],
   "source": [
    "plt.plot(X[y == 1, 0], X[y == 1, 1], 'g^', label = 'Class1')\n",
    "plt.plot(X[y == 0, 0], X[y == 0, 1], 'r*', label = 'Class2')\n",
    "plt.show()"
   ]
  },
  {
   "cell_type": "code",
   "execution_count": 6,
   "metadata": {
    "collapsed": false
   },
   "outputs": [],
   "source": [
    "X_bias = np.c_[np.ones((m, 1)), X]"
   ]
  },
  {
   "cell_type": "code",
   "execution_count": 7,
   "metadata": {
    "collapsed": true
   },
   "outputs": [],
   "source": [
    "y = y.reshape(-1, 1)"
   ]
  },
  {
   "cell_type": "code",
   "execution_count": 8,
   "metadata": {
    "collapsed": true
   },
   "outputs": [],
   "source": [
    "from sklearn.model_selection import train_test_split\n",
    "\n",
    "X_train, X_test, y_train, y_test = train_test_split(X_bias, y, test_size = 0.2)"
   ]
  },
  {
   "cell_type": "code",
   "execution_count": 9,
   "metadata": {
    "collapsed": true
   },
   "outputs": [],
   "source": [
    "def get_batch(X_train, y_train, batch_size):\n",
    "    index_num = np.random.randint(0, len(X_train), batch_size)\n",
    "    X_batch = X_train[index_num]\n",
    "    y_batch = y_train[index_num]\n",
    "    return X_batch, y_batch"
   ]
  },
  {
   "cell_type": "code",
   "execution_count": 10,
   "metadata": {
    "collapsed": false
   },
   "outputs": [],
   "source": [
    "X_var = tf.placeholder(tf.float32, shape = (None, 2 + 1), name = 'X')\n",
    "y_var = tf.placeholder(tf.float32, shape = (None, 1), name = 'y')\n",
    "\n",
    "theta = tf.Variable(tf.random_uniform([2 + 1, 1], -1, 1, seed = 100), name = 'theta')\n",
    "logits = tf.matmul(X_var, theta, name = 'logits')\n",
    "y_prob = 1 / (1 + tf.exp(-logits))"
   ]
  },
  {
   "cell_type": "code",
   "execution_count": 11,
   "metadata": {
    "collapsed": true
   },
   "outputs": [],
   "source": [
    "y_prob = tf.sigmoid(logits)"
   ]
  },
  {
   "cell_type": "code",
   "execution_count": 12,
   "metadata": {
    "collapsed": false
   },
   "outputs": [],
   "source": [
    "loss = tf.losses.log_loss(y_var, y_prob)"
   ]
  },
  {
   "cell_type": "code",
   "execution_count": 13,
   "metadata": {
    "collapsed": true
   },
   "outputs": [],
   "source": [
    "learning_rate = 0.01\n",
    "optimizer = tf.train.GradientDescentOptimizer(learning_rate=learning_rate)\n",
    "training_op = optimizer.minimize(loss)"
   ]
  },
  {
   "cell_type": "code",
   "execution_count": 14,
   "metadata": {
    "collapsed": true
   },
   "outputs": [],
   "source": [
    "init = tf.global_variables_initializer()"
   ]
  },
  {
   "cell_type": "code",
   "execution_count": 15,
   "metadata": {
    "collapsed": false
   },
   "outputs": [
    {
     "name": "stdout",
     "output_type": "stream",
     "text": [
      "Epoch: 0 \tLoss: 0.697985\n",
      "Epoch: 100 \tLoss: 0.325029\n",
      "Epoch: 200 \tLoss: 0.278478\n",
      "Epoch: 300 \tLoss: 0.25902\n",
      "Epoch: 400 \tLoss: 0.248282\n",
      "Epoch: 500 \tLoss: 0.241803\n",
      "Epoch: 600 \tLoss: 0.237306\n",
      "Epoch: 700 \tLoss: 0.234079\n",
      "Epoch: 800 \tLoss: 0.23207\n",
      "Epoch: 900 \tLoss: 0.230655\n",
      "Epoch: 1000 \tLoss: 0.229246\n",
      "Epoch: 1100 \tLoss: 0.228153\n",
      "Epoch: 1200 \tLoss: 0.228235\n",
      "Epoch: 1300 \tLoss: 0.227224\n",
      "Epoch: 1400 \tLoss: 0.226663\n",
      "Epoch: 1500 \tLoss: 0.226339\n",
      "Epoch: 1600 \tLoss: 0.226493\n",
      "Epoch: 1700 \tLoss: 0.226439\n",
      "Epoch: 1800 \tLoss: 0.226082\n",
      "Epoch: 1900 \tLoss: 0.225629\n",
      "Epoch: 2000 \tLoss: 0.225692\n"
     ]
    }
   ],
   "source": [
    "n_epochs = 2001\n",
    "batch_size = 50\n",
    "n_batches = int(np.ceil(m / batch_size))\n",
    "\n",
    "with tf.Session() as sess:\n",
    "    sess.run(init)\n",
    "\n",
    "    for epoch in range(n_epochs):\n",
    "        for batch_index in range(n_batches):\n",
    "            X_batch, y_batch = get_batch(X_train, y_train, batch_size)\n",
    "            sess.run(training_op, feed_dict={X_var: X_batch, y_var: y_batch})\n",
    "        loss_val = loss.eval({X_var: X_test, y_var: y_test})\n",
    "        if epoch % 100 == 0:\n",
    "            print \"Epoch:\", epoch, \"\\tLoss:\", loss_val\n",
    "\n",
    "    y_prob_val = y_prob.eval(feed_dict={X_var: X_test, y_var: y_test})"
   ]
  },
  {
   "cell_type": "code",
   "execution_count": 16,
   "metadata": {
    "collapsed": false
   },
   "outputs": [],
   "source": [
    "y_pred = (y_prob_val >= 0.5)"
   ]
  },
  {
   "cell_type": "code",
   "execution_count": 17,
   "metadata": {
    "collapsed": false
   },
   "outputs": [
    {
     "data": {
      "text/plain": [
       "0.86170212765957444"
      ]
     },
     "execution_count": 17,
     "metadata": {},
     "output_type": "execute_result"
    }
   ],
   "source": [
    "from sklearn.metrics import precision_score, recall_score\n",
    "\n",
    "precision_score(y_test, y_pred)"
   ]
  },
  {
   "cell_type": "code",
   "execution_count": 18,
   "metadata": {
    "collapsed": false
   },
   "outputs": [
    {
     "data": {
      "text/plain": [
       "0.89010989010989006"
      ]
     },
     "execution_count": 18,
     "metadata": {},
     "output_type": "execute_result"
    }
   ],
   "source": [
    "recall_score(y_test, y_pred)"
   ]
  },
  {
   "cell_type": "code",
   "execution_count": 19,
   "metadata": {
    "collapsed": false
   },
   "outputs": [
    {
     "data": {
      "image/png": "[encoded data removed]",
      "text/plain": [
       "<matplotlib.figure.Figure at 0x7ff8dc91c6d0>"
      ]
     },
     "metadata": {},
     "output_type": "display_data"
    }
   ],
   "source": [
    "y_pred = y_pred.reshape(-1)\n",
    "plt.plot(X_test[y_pred == 1, 1], X_test[y_pred == 1, 2], 'g^', label = 'Class1')\n",
    "plt.plot(X_test[y_pred == 0, 1], X_test[y_pred == 0, 2], 'r*', label = 'Class2')\n",
    "plt.show()"
   ]
  },
  {
   "cell_type": "markdown",
   "metadata": {},
   "source": [
    "# Adding Polynomial features"
   ]
  },
  {
   "cell_type": "code",
   "execution_count": 20,
   "metadata": {
    "collapsed": false
   },
   "outputs": [],
   "source": [
    "from sklearn.preprocessing import PolynomialFeatures\n",
    "\n",
    "m = 1000\n",
    "X, y = make_moons(m, noise = 0.07, random_state = 100)\n",
    "\n",
    "poly = PolynomialFeatures(3)\n",
    "X_poly = poly.fit_transform(X)"
   ]
  },
  {
   "cell_type": "code",
   "execution_count": 21,
   "metadata": {
    "collapsed": false
   },
   "outputs": [
    {
     "data": {
      "text/plain": [
       "(1000, 10)"
      ]
     },
     "execution_count": 21,
     "metadata": {},
     "output_type": "execute_result"
    }
   ],
   "source": [
    "X_poly.shape"
   ]
  },
  {
   "cell_type": "code",
   "execution_count": 22,
   "metadata": {
    "collapsed": false
   },
   "outputs": [],
   "source": [
    "y = y.reshape(-1, 1)\n",
    "X_train, X_test, y_train, y_test = train_test_split(X_poly, y, test_size = 0.2)"
   ]
  },
  {
   "cell_type": "code",
   "execution_count": 23,
   "metadata": {
    "collapsed": false
   },
   "outputs": [],
   "source": [
    "X_var = tf.placeholder(tf.float32, shape = (None, 9 + 1), name = 'X')\n",
    "y_var = tf.placeholder(tf.float32, shape = (None, 1), name = 'y')\n",
    "\n",
    "with tf.name_scope('logistic_reg'):\n",
    "    initr = tf.random_uniform([10, 1], -1.0, 1.0, seed = 100)\n",
    "    theta = tf.Variable(initr, name = 'theta')\n",
    "    logits = tf.matmul(X_var, theta, name = 'logits')\n",
    "    y_prob = tf.sigmoid(logits)\n",
    "    \n",
    "with tf.name_scope('train'):\n",
    "    loss = tf.losses.log_loss(y_var, y_prob, scope = 'loss')\n",
    "    optimizer = tf.train.GradientDescentOptimizer(learning_rate = 0.01)\n",
    "    training_op = optimizer.minimize(loss)\n",
    "    loss_summary = tf.summary.scalar('log_loss', loss)\n",
    "\n",
    "with tf.name_scope('init'):\n",
    "    init = tf.global_variables_initializer()\n",
    "    \n",
    "with tf.name_scope('save'):\n",
    "    saver = tf.train.Saver()\n",
    "    \n",
    "file_writer = tf.summary.FileWriter('/tmp/moons/train_logistic_1', tf.get_default_graph())"
   ]
  },
  {
   "cell_type": "code",
   "execution_count": 24,
   "metadata": {
    "collapsed": false
   },
   "outputs": [
    {
     "name": "stdout",
     "output_type": "stream",
     "text": [
      "Epoch: 0 \tLoss: 0.935667\n",
      "Epoch: 500 \tLoss: 0.152586\n",
      "Epoch: 1000 \tLoss: 0.108305\n",
      "Epoch: 1500 \tLoss: 0.0852012\n",
      "Epoch: 2000 \tLoss: 0.0708289\n",
      "Epoch: 2500 \tLoss: 0.0612534\n",
      "Epoch: 3000 \tLoss: 0.0540439\n",
      "Epoch: 3500 \tLoss: 0.0487028\n",
      "Epoch: 4000 \tLoss: 0.0445537\n",
      "Epoch: 4500 \tLoss: 0.0408117\n",
      "Epoch: 5000 \tLoss: 0.0378859\n",
      "Epoch: 5500 \tLoss: 0.0354782\n",
      "Epoch: 6000 \tLoss: 0.0333308\n",
      "Epoch: 6500 \tLoss: 0.0315878\n",
      "Epoch: 7000 \tLoss: 0.030011\n",
      "Epoch: 7500 \tLoss: 0.0285278\n",
      "Epoch: 8000 \tLoss: 0.0271873\n",
      "Epoch: 8500 \tLoss: 0.0260616\n",
      "Epoch: 9000 \tLoss: 0.0249839\n",
      "Epoch: 9500 \tLoss: 0.024016\n",
      "Epoch: 10000 \tLoss: 0.0231768\n"
     ]
    }
   ],
   "source": [
    "n_epochs = 10001\n",
    "batch_size = 50\n",
    "n_batches = int(np.ceil(m/batch_size))\n",
    "\n",
    "checkpoint_path = '/tmp/train_logistic_model1.ckpt'\n",
    "checkpoint_epoch_path = checkpoint_path + '.epoch'\n",
    "final_model_path = '/tmp/final_logistic_model'\n",
    "\n",
    "with tf.Session() as sess:\n",
    "    if os.path.isfile(checkpoint_epoch_path):\n",
    "        with open(checkpoint_epoch_path, \"rb\") as f:\n",
    "            start_epoch = int(f.read())\n",
    "        print(\"Training was interrupted. Continuing at epoch\", start_epoch)\n",
    "        saver.restore(sess, checkpoint_path)\n",
    "    else:\n",
    "        start_epoch = 0\n",
    "        sess.run(init)\n",
    "        \n",
    "    for epoch in range(start_epoch, n_epochs):\n",
    "        for batch_index in range(n_batches):\n",
    "            X_batch, y_batch = get_batch(X_train, y_train, batch_size)\n",
    "            sess.run(training_op, feed_dict = {X_var: X_batch, y_var: y_batch})\n",
    "        loss_val, summary_str = sess.run([loss, loss_summary], feed_dict={X_var: X_test, y_var: y_test})\n",
    "        file_writer.add_summary(summary_str, epoch)\n",
    "        \n",
    "        if epoch % 500 == 0:\n",
    "            print \"Epoch:\", epoch, \"\\tLoss:\", loss_val\n",
    "            saver.save(sess, checkpoint_path)\n",
    "            with open(checkpoint_epoch_path, \"wb\") as f:\n",
    "                f.write(b\"%d\" % (epoch + 1))\n",
    "\n",
    "    saver.save(sess, final_model_path)\n",
    "    y_prob_val = y_prob.eval(feed_dict={X_var: X_test, y_var: y_test})\n",
    "    os.remove(checkpoint_epoch_path)"
   ]
  },
  {
   "cell_type": "code",
   "execution_count": 25,
   "metadata": {
    "collapsed": true
   },
   "outputs": [],
   "source": [
    "y_pred = (y_prob_val >= 0.5)"
   ]
  },
  {
   "cell_type": "code",
   "execution_count": 26,
   "metadata": {
    "collapsed": false
   },
   "outputs": [
    {
     "data": {
      "text/plain": [
       "1.0"
      ]
     },
     "execution_count": 26,
     "metadata": {},
     "output_type": "execute_result"
    }
   ],
   "source": [
    "from sklearn.metrics import precision_score, recall_score\n",
    "\n",
    "precision_score(y_test, y_pred)"
   ]
  },
  {
   "cell_type": "code",
   "execution_count": 27,
   "metadata": {
    "collapsed": false
   },
   "outputs": [
    {
     "data": {
      "text/plain": [
       "1.0"
      ]
     },
     "execution_count": 27,
     "metadata": {},
     "output_type": "execute_result"
    }
   ],
   "source": [
    "recall_score(y_test, y_pred)"
   ]
  },
  {
   "cell_type": "code",
   "execution_count": 28,
   "metadata": {
    "collapsed": false
   },
   "outputs": [
    {
     "data": {
      "image/png": "[encoded data removed]",
      "text/plain": [
       "<matplotlib.figure.Figure at 0x7ff8c3e96cd0>"
      ]
     },
     "metadata": {},
     "output_type": "display_data"
    }
   ],
   "source": [
    "y_pred = y_pred.reshape(-1)\n",
    "plt.plot(X_test[y_pred == 1, 1], X_test[y_pred == 1, 2], 'g^', label = 'Class1')\n",
    "plt.plot(X_test[y_pred == 0, 1], X_test[y_pred == 0, 2], 'r*', label = 'Class2')\n",
    "plt.show()"
   ]
  },
  {
   "cell_type": "code",
   "execution_count": 29,
   "metadata": {
    "collapsed": false
   },
   "outputs": [
    {
     "name": "stdout",
     "output_type": "stream",
     "text": [
      "Iteration 0\n",
      "\tbatch size: 9\n",
      "\tlearning_rate: 0.00443037524522\n",
      "\ttraining:  . . . . . . . . . . . . . . . . . . . . . \n",
      "\tprecision: 1.0\n",
      "\trecall: 1.0\n",
      "Iteration 1\n",
      "\tbatch size: 90\n",
      "\tlearning_rate: 0.00178264971514\n",
      "\ttraining:  . . . . . . . . . . . . . . . . . . . . . \n",
      "\tprecision: 0.97\n",
      "\trecall: 0.950980392157\n",
      "Iteration 2\n",
      "\tbatch size: 52\n",
      "\tlearning_rate: 0.00203228544324\n",
      "\ttraining:  . . . . . . . . . . . . . . . . . . . . . \n",
      "\tprecision: 0.990196078431\n",
      "\trecall: 0.990196078431\n",
      "Iteration 3\n",
      "\tbatch size: 94\n",
      "\tlearning_rate: 0.00449152382514\n",
      "\ttraining:  . . . . . . . . . . . . . . . . . . . . . \n",
      "\tprecision: 0.990291262136\n",
      "\trecall: 1.0\n",
      "Iteration 4\n",
      "\tbatch size: 38\n",
      "\tlearning_rate: 0.0796323472178\n",
      "\ttraining:  . . . . . . . . . . . . . . . . . . . . . \n",
      "\tprecision: 1.0\n",
      "\trecall: 1.0\n",
      "Iteration 5\n",
      "\tbatch size: 94\n",
      "\tlearning_rate: 0.000463425058329\n",
      "\ttraining:  . . . . . . . . . . . . . . . . . . . . . \n",
      "\tprecision: 0.90625\n",
      "\trecall: 0.852941176471\n",
      "Iteration 6\n",
      "\tbatch size: 38\n",
      "\tlearning_rate: 0.0477068184194\n",
      "\ttraining:  . . . . . . . . . . . . . . . . . . . . . \n",
      "\tprecision: 1.0\n",
      "\trecall: 1.0\n",
      "Iteration 7\n",
      "\tbatch size: 94\n",
      "\tlearning_rate: 0.000169404470952\n",
      "\ttraining:  . . . . . . . . . . . . . . . . . . . . . \n",
      "\tprecision: 0.898876404494\n",
      "\trecall: 0.78431372549\n",
      "Iteration 8\n",
      "\tbatch size: 38\n",
      "\tlearning_rate: 0.0417146119941\n",
      "\ttraining:  . . . . . . . . . . . . . . . . . . . . . \n",
      "\tprecision: 1.0\n",
      "\trecall: 1.0\n",
      "Iteration 9\n",
      "\tbatch size: 94\n",
      "\tlearning_rate: 0.000107429229684\n",
      "\ttraining:  . . . . . . . . . . . . . . . . . . . . . \n",
      "\tprecision: 0.897727272727\n",
      "\trecall: 0.774509803922\n"
     ]
    }
   ],
   "source": [
    "from scipy.stats import reciprocal\n",
    "\n",
    "n_search_iterations = 10\n",
    "\n",
    "for search_iteration in range(n_search_iterations):\n",
    "    batch_size = np.random.randint(1, 100)\n",
    "    learning_rate = reciprocal(0.0001, 0.1).rvs(random_state=search_iteration)\n",
    "\n",
    "    print \"Iteration\", search_iteration\n",
    "    print \"\\tbatch size:\", batch_size\n",
    "    print \"\\tlearning_rate:\", learning_rate\n",
    "    print \"\\ttraining: \",\n",
    "    \n",
    "    tf.reset_default_graph()\n",
    "    tf.set_random_seed(100)\n",
    "    np.random.seed(100)\n",
    "    \n",
    "    X_var = tf.placeholder(tf.float32, shape = (None, 9 + 1), name = 'X')\n",
    "    y_var = tf.placeholder(tf.float32, shape = (None, 1), name = 'y')\n",
    "    \n",
    "    with tf.name_scope('logistic_reg'):\n",
    "        initr = tf.random_uniform([10, 1], -1.0, 1.0, seed = 100)\n",
    "        theta = tf.Variable(initr, name = 'theta')\n",
    "        logits = tf.matmul(X_var, theta, name = 'logits')\n",
    "        y_prob = tf.sigmoid(logits)\n",
    "\n",
    "    with tf.name_scope('train_randomCV'):\n",
    "        loss = tf.losses.log_loss(y_var, y_prob, scope = 'loss')\n",
    "        optimizer = tf.train.GradientDescentOptimizer(learning_rate = learning_rate)\n",
    "        training_op = optimizer.minimize(loss)\n",
    "        loss_summary = tf.summary.scalar('log_loss', loss)\n",
    "\n",
    "    with tf.name_scope('init'):\n",
    "        init = tf.global_variables_initializer()\n",
    "\n",
    "    with tf.name_scope('save'):\n",
    "        saver = tf.train.Saver()\n",
    "\n",
    "    file_writer = tf.summary.FileWriter('/tmp/moons/train_logistic_2', tf.get_default_graph())\n",
    "    \n",
    "    n_epochs = 10001\n",
    "    n_batches = int(np.ceil(m / batch_size))\n",
    "\n",
    "    final_model_path = '/tmp/final_logistic_model' + str(search_iteration)\n",
    "    \n",
    "    with tf.Session() as sess:\n",
    "        sess.run(init)\n",
    "\n",
    "        for epoch in range(n_epochs):\n",
    "            for batch_index in range(n_batches):\n",
    "                X_batch, y_batch = get_batch(X_train, y_train, batch_size)\n",
    "                sess.run(training_op, feed_dict={X_var: X_batch, y_var: y_batch})\n",
    "                \n",
    "            loss_val, summary_str = sess.run([loss, loss_summary], feed_dict={X_var: X_test, y_var: y_test})\n",
    "            \n",
    "            file_writer.add_summary(summary_str, epoch)\n",
    "            if epoch % 500 == 0:\n",
    "                print '.',\n",
    "\n",
    "        saver.save(sess, final_model_path)\n",
    "\n",
    "        print ''\n",
    "        y_prob_val = y_prob.eval(feed_dict={X_var: X_test, y_var: y_test})\n",
    "        y_pred = (y_prob_val >= 0.5)\n",
    "        \n",
    "        print \"\\tprecision:\", precision_score(y_test, y_pred)\n",
    "        print \"\\trecall:\", recall_score(y_test, y_pred)"
   ]
  },
  {
   "cell_type": "code",
   "execution_count": null,
   "metadata": {
    "collapsed": true
   },
   "outputs": [],
   "source": []
  }
 ],
 "metadata": {
  "kernelspec": {
   "display_name": "Python 2",
   "language": "python",
   "name": "python2"
  },
  "language_info": {
   "codemirror_mode": {
    "name": "ipython",
    "version": 2
   },
   "file_extension": ".py",
   "mimetype": "text/x-python",
   "name": "python",
   "nbconvert_exporter": "python",
   "pygments_lexer": "ipython2",
   "version": "2.7.13"
  }
 },
 "nbformat": 4,
 "nbformat_minor": 2
}
