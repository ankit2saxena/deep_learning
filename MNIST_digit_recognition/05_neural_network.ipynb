{
 "cells": [
  {
   "cell_type": "code",
   "execution_count": 1,
   "metadata": {
    "collapsed": false
   },
   "outputs": [],
   "source": [
    "from sklearn.datasets import fetch_mldata\n",
    "import numpy as np\n",
    "import matplotlib.pyplot as plt\n",
    "%matplotlib inline\n",
    "\n",
    "np.random.seed(100)\n",
    "\n",
    "mnist1 = fetch_mldata('MNIST original')\n",
    "\n",
    "X, y = mnist1['data'], mnist1['target']\n",
    "\n",
    "X_train = X[:55000]\n",
    "X_test = X[55000:65000]\n",
    "X_val = X[65000:]\n",
    "\n",
    "y = y.astype(int)\n",
    "\n",
    "y_train = y[:55000]\n",
    "y_test = y[55000:65000]\n",
    "y_val = y[65000:]\n",
    "\n",
    "shuffle_index = np.random.permutation(55000)\n",
    "X_train, y_train = X_train[shuffle_index], y_train[shuffle_index]\n",
    "\n",
    "def plot_digit(data):\n",
    "    image = data.reshape(28, 28)\n",
    "    plt.imshow(image, cmap = 'Greys', interpolation=\"nearest\")\n",
    "    plt.axis(\"off\")\n",
    "    pass"
   ]
  },
  {
   "cell_type": "code",
   "execution_count": 2,
   "metadata": {
    "collapsed": false
   },
   "outputs": [
    {
     "data": {
      "image/png": "[encoded data removed]",
      "text/plain": [
       "<matplotlib.figure.Figure at 0x7f313c209ad0>"
      ]
     },
     "metadata": {},
     "output_type": "display_data"
    }
   ],
   "source": [
    "plot_digit(X_train[20000])"
   ]
  },
  {
   "cell_type": "code",
   "execution_count": 3,
   "metadata": {
    "collapsed": true
   },
   "outputs": [],
   "source": [
    "import scipy.special\n",
    "\n",
    "class neuralNetwork:\n",
    "    \n",
    "    def __init__(self, inputnodes, hiddennodes, outputnodes, learningrate):\n",
    "        self.inodes = inputnodes\n",
    "        self.hnodes = hiddennodes\n",
    "        self.onodes = outputnodes\n",
    "        \n",
    "        self.lr = learningrate\n",
    "        \n",
    "        self.wih = np.random.normal(0.0, pow(self.hnodes, -0.5), (self.hnodes, self.inodes))\n",
    "        self.who = np.random.normal(0.0, pow(self.onodes, -0.5), (self.onodes, self.hnodes))\n",
    "        \n",
    "        self.activation_function = lambda x: scipy.special.expit(x)\n",
    "        pass\n",
    "    \n",
    "    def train(self, inputs_list, targets_list):\n",
    "        inputs = np.array(inputs_list, ndmin=2).T\n",
    "        targets = np.array(targets_list, ndmin=2).T\n",
    "        \n",
    "        hidden_inputs = np.dot(self.wih, inputs)\n",
    "        hidden_outputs = self.activation_function(hidden_inputs)\n",
    "        final_inputs = np.dot(self.who, hidden_outputs)\n",
    "        final_outputs = self.activation_function(final_inputs)\n",
    "        \n",
    "        output_errors = targets - final_outputs\n",
    "        hidden_errors = np.dot(self.who.T, output_errors)\n",
    "        \n",
    "        self.who += self.lr * np.dot((output_errors * final_outputs * (1 - final_outputs)), np.transpose(hidden_outputs))\n",
    "        \n",
    "        self.wih += self.lr * np.dot((hidden_errors * hidden_outputs * (1 - hidden_outputs)), np.transpose(inputs))\n",
    "        \n",
    "        pass\n",
    "        \n",
    "            \n",
    "    \n",
    "    def query(self, inputs_list):\n",
    "        \n",
    "        inputs = np.array(inputs_list, ndmin=2).T\n",
    "        \n",
    "        hidden_inputs = np.dot(self.wih, inputs)\n",
    "        \n",
    "        hidden_outputs = self.activation_function(hidden_inputs)\n",
    "        \n",
    "        final_inputs = np.dot(self.who, hidden_outputs)\n",
    "        \n",
    "        final_outputs = self.activation_function(final_inputs)\n",
    "        \n",
    "        return final_outputs\n"
   ]
  },
  {
   "cell_type": "markdown",
   "metadata": {},
   "source": [
    "# Initialize the model"
   ]
  },
  {
   "cell_type": "code",
   "execution_count": 4,
   "metadata": {
    "collapsed": true
   },
   "outputs": [],
   "source": [
    "input_nodes = 784\n",
    "hidden_nodes = 200\n",
    "output_nodes = 10\n",
    "\n",
    "learning_rate = 0.2\n",
    "\n",
    "n = neuralNetwork(input_nodes, hidden_nodes, output_nodes, learning_rate)"
   ]
  },
  {
   "cell_type": "markdown",
   "metadata": {},
   "source": [
    "# Train the model"
   ]
  },
  {
   "cell_type": "code",
   "execution_count": 5,
   "metadata": {
    "collapsed": false
   },
   "outputs": [],
   "source": [
    "for i in range(0, X_train.shape[0]):\n",
    "    inputs = X_train[i]\n",
    "    targets = np.zeros(output_nodes) + 0.01\n",
    "    targets[int(y_train[i])] = 0.99\n",
    "    n.train(inputs, targets)\n",
    "    pass"
   ]
  },
  {
   "cell_type": "markdown",
   "metadata": {},
   "source": [
    "# Predict the train labels"
   ]
  },
  {
   "cell_type": "code",
   "execution_count": 6,
   "metadata": {
    "collapsed": false
   },
   "outputs": [],
   "source": [
    "train_scorecard = []\n",
    "\n",
    "for i in range(0, X_train.shape[0]):\n",
    "    inputs = X_train[i]\n",
    "    correct_label = y_train[i]\n",
    "    \n",
    "    outputs = n.query(inputs)\n",
    "    label = np.argmax(outputs)\n",
    "    \n",
    "    if label == correct_label:\n",
    "        train_scorecard.append(1)\n",
    "    else:\n",
    "        train_scorecard.append(0)\n",
    "        pass\n",
    "    pass"
   ]
  },
  {
   "cell_type": "markdown",
   "metadata": {},
   "source": [
    "# Predict the test labels"
   ]
  },
  {
   "cell_type": "code",
   "execution_count": 7,
   "metadata": {
    "collapsed": false
   },
   "outputs": [],
   "source": [
    "test_scorecard = []\n",
    "\n",
    "for i in range(0, X_test.shape[0]):\n",
    "    inputs = X_test[i]\n",
    "    correct_label = y_test[i]\n",
    "    \n",
    "    outputs = n.query(inputs)\n",
    "    label = np.argmax(outputs)\n",
    "    \n",
    "    if label == correct_label:\n",
    "        test_scorecard.append(1)\n",
    "    else:\n",
    "        test_scorecard.append(0)\n",
    "        pass\n",
    "    pass"
   ]
  },
  {
   "cell_type": "code",
   "execution_count": 8,
   "metadata": {
    "collapsed": false
   },
   "outputs": [
    {
     "name": "stdout",
     "output_type": "stream",
     "text": [
      "Train Accuracy:  0.152618181818\n",
      "Test Accuracy:  0.0831\n"
     ]
    }
   ],
   "source": [
    "print 'Train Accuracy: ', (float(np.sum(train_scorecard)) / X_train.shape[0])\n",
    "print 'Test Accuracy: ', (float(np.sum(test_scorecard)) / X_test.shape[0])"
   ]
  },
  {
   "cell_type": "markdown",
   "metadata": {},
   "source": [
    "# Scaling the features"
   ]
  },
  {
   "cell_type": "code",
   "execution_count": 9,
   "metadata": {
    "collapsed": false
   },
   "outputs": [],
   "source": [
    "X_train_scaled = np.asarray(map(lambda x: (((x / 255.0) * 0.99) + 0.01), X_train))\n",
    "X_test_scaled = np.asarray(map(lambda x: (((x / 255.0) * 0.99) + 0.01), X_test))"
   ]
  },
  {
   "cell_type": "markdown",
   "metadata": {},
   "source": [
    "# Train the model (scaled)"
   ]
  },
  {
   "cell_type": "code",
   "execution_count": 10,
   "metadata": {
    "collapsed": false
   },
   "outputs": [],
   "source": [
    "n = neuralNetwork(input_nodes, hidden_nodes, output_nodes, learning_rate)\n",
    "\n",
    "for i in range(0, X_train_scaled.shape[0]):\n",
    "    inputs = X_train_scaled[i]\n",
    "    targets = np.zeros(output_nodes) + 0.01\n",
    "    targets[int(y_train[i])] = 0.99\n",
    "    n.train(inputs, targets)\n",
    "    pass"
   ]
  },
  {
   "cell_type": "markdown",
   "metadata": {},
   "source": [
    "# Predict the train labels (scaled)"
   ]
  },
  {
   "cell_type": "code",
   "execution_count": 11,
   "metadata": {
    "collapsed": true
   },
   "outputs": [],
   "source": [
    "train_scorecard_scaled = []\n",
    "\n",
    "for i in range(0, X_train_scaled.shape[0]):\n",
    "    inputs = X_train_scaled[i]\n",
    "    correct_label = y_train[i]\n",
    "    \n",
    "    outputs = n.query(inputs)\n",
    "    label = np.argmax(outputs)\n",
    "    \n",
    "    if label == correct_label:\n",
    "        train_scorecard_scaled.append(1)\n",
    "    else:\n",
    "        train_scorecard_scaled.append(0)\n",
    "        pass\n",
    "    pass"
   ]
  },
  {
   "cell_type": "markdown",
   "metadata": {},
   "source": [
    "# Predict the test labels (scaled)"
   ]
  },
  {
   "cell_type": "code",
   "execution_count": 12,
   "metadata": {
    "collapsed": false
   },
   "outputs": [],
   "source": [
    "test_scorecard_scaled = []\n",
    "\n",
    "for i in range(0, X_test_scaled.shape[0]):\n",
    "    inputs = X_test_scaled[i]\n",
    "    correct_label = y_test[i]\n",
    "    \n",
    "    outputs = n.query(inputs)\n",
    "    label = np.argmax(outputs)\n",
    "    \n",
    "    if label == correct_label:\n",
    "        test_scorecard_scaled.append(1)\n",
    "    else:\n",
    "        test_scorecard_scaled.append(0)\n",
    "        pass\n",
    "    pass"
   ]
  },
  {
   "cell_type": "code",
   "execution_count": 13,
   "metadata": {
    "collapsed": false
   },
   "outputs": [
    {
     "name": "stdout",
     "output_type": "stream",
     "text": [
      "Train Accuracy:  0.970727272727\n",
      "Test Accuracy:  0.8104\n"
     ]
    }
   ],
   "source": [
    "print 'Train Accuracy: ', (float(np.sum(train_scorecard_scaled)) / X_train_scaled.shape[0])\n",
    "print 'Test Accuracy: ', (float(np.sum(test_scorecard_scaled)) / X_test_scaled.shape[0])"
   ]
  },
  {
   "cell_type": "code",
   "execution_count": null,
   "metadata": {
    "collapsed": true
   },
   "outputs": [],
   "source": []
  }
 ],
 "metadata": {
  "kernelspec": {
   "display_name": "Python 2",
   "language": "python",
   "name": "python2"
  },
  "language_info": {
   "codemirror_mode": {
    "name": "ipython",
    "version": 2
   },
   "file_extension": ".py",
   "mimetype": "text/x-python",
   "name": "python",
   "nbconvert_exporter": "python",
   "pygments_lexer": "ipython2",
   "version": "2.7.13"
  }
 },
 "nbformat": 4,
 "nbformat_minor": 2
}
