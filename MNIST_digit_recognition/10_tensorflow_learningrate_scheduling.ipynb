{
 "cells": [
  {
   "cell_type": "code",
   "execution_count": 1,
   "metadata": {
    "collapsed": false
   },
   "outputs": [
    {
     "name": "stdout",
     "output_type": "stream",
     "text": [
      "Extracting /tmp/data/train-images-idx3-ubyte.gz\n",
      "Extracting /tmp/data/train-labels-idx1-ubyte.gz\n",
      "Extracting /tmp/data/t10k-images-idx3-ubyte.gz\n",
      "Extracting /tmp/data/t10k-labels-idx1-ubyte.gz\n"
     ]
    }
   ],
   "source": [
    "from tensorflow.examples.tutorials.mnist import input_data\n",
    "mnist2 = input_data.read_data_sets(\"/tmp/data/\")\n",
    "\n",
    "X_train = mnist2.train.images\n",
    "X_test = mnist2.test.images\n",
    "X_val = mnist2.validation.images\n",
    "\n",
    "y_train = mnist2.train.labels.astype(\"int\")\n",
    "y_test = mnist2.test.labels.astype(\"int\")\n",
    "y_val = mnist2.validation.labels.astype(\"int\")\n",
    "\n",
    "import tensorflow as tf\n",
    "import numpy as np\n",
    "import matplotlib.pyplot as plt\n",
    "%matplotlib inline\n",
    "\n",
    "np.random.seed(100)\n",
    "tf.reset_default_graph()\n",
    "tf.set_random_seed(100)\n",
    "\n",
    "def plot_digit(data):\n",
    "    image = data.reshape(28, 28)\n",
    "    plt.imshow(image, cmap = 'Greys', interpolation=\"nearest\")\n",
    "    plt.axis(\"off\")\n",
    "    pass"
   ]
  },
  {
   "cell_type": "code",
   "execution_count": 2,
   "metadata": {
    "collapsed": false
   },
   "outputs": [
    {
     "data": {
      "image/png": "[encoded data removed]",
      "text/plain": [
       "<matplotlib.figure.Figure at 0x7f76cd670a50>"
      ]
     },
     "metadata": {},
     "output_type": "display_data"
    }
   ],
   "source": [
    "plot_digit(X_train[20000])"
   ]
  },
  {
   "cell_type": "code",
   "execution_count": 3,
   "metadata": {
    "collapsed": true
   },
   "outputs": [],
   "source": [
    "n_inputs = 28 * 28\n",
    "n_hidden1 = 300\n",
    "n_hidden2 = 100\n",
    "n_outputs = 10"
   ]
  },
  {
   "cell_type": "code",
   "execution_count": 4,
   "metadata": {
    "collapsed": true
   },
   "outputs": [],
   "source": [
    "X = tf.placeholder(tf.float32, shape=(None, n_inputs), name=\"X\")\n",
    "y = tf.placeholder(tf.int64, shape=(None), name=\"y\")"
   ]
  },
  {
   "cell_type": "markdown",
   "metadata": {},
   "source": [
    "# Learning Rate Scheduling"
   ]
  },
  {
   "cell_type": "code",
   "execution_count": 5,
   "metadata": {
    "collapsed": false
   },
   "outputs": [],
   "source": [
    "with tf.name_scope(\"dnn\"):\n",
    "    hidden1 = tf.layers.dense(X, n_hidden1, activation=tf.nn.relu, name=\"hidden1\")\n",
    "    hidden2 = tf.layers.dense(hidden1, n_hidden2, activation=tf.nn.relu, name=\"hidden2\")\n",
    "    logits = tf.layers.dense(hidden2, n_outputs, name=\"outputs\")\n",
    "    pass\n",
    "\n",
    "with tf.name_scope('loss'):\n",
    "    xentropy = tf.nn.sparse_softmax_cross_entropy_with_logits(labels = y, logits = logits)\n",
    "    loss = tf.reduce_mean(xentropy, name = 'loss')\n",
    "    loss_summary = tf.summary.scalar('log_loss', loss)\n",
    "    pass\n",
    "\n",
    "with tf.name_scope('eval'):\n",
    "    correct = tf.nn.in_top_k(logits, y, 1)\n",
    "    accuracy = tf.reduce_mean(tf.cast(correct, tf.float32), name=\"accuracy\")\n",
    "    accuracy_summary = tf.summary.scalar('accuracy', accuracy)\n",
    "    pass\n",
    "\n",
    "with tf.name_scope('train'):\n",
    "    initial_learning_rate = 0.1\n",
    "    decay_steps = 10000\n",
    "    decay_rate = 1/10\n",
    "    global_step = tf.Variable(0, trainable=True, name = 'global_step')\n",
    "    learning_rate = tf.train.exponential_decay(initial_learning_rate, global_step, decay_steps, decay_rate)\n",
    "    \n",
    "    optimizer = tf.train.MomentumOptimizer(learning_rate, momentum = 0.9)\n",
    "    training_op = optimizer.minimize(loss, global_step = global_step)\n",
    "    pass\n"
   ]
  },
  {
   "cell_type": "code",
   "execution_count": 6,
   "metadata": {
    "collapsed": true
   },
   "outputs": [],
   "source": [
    "init = tf.global_variables_initializer()\n",
    "saver = tf.train.Saver()\n",
    "file_writer = tf.summary.FileWriter('/tmp/model/mnist_dnn-rate_scheduling', tf.get_default_graph())"
   ]
  },
  {
   "cell_type": "code",
   "execution_count": 7,
   "metadata": {
    "collapsed": false
   },
   "outputs": [
    {
     "name": "stdout",
     "output_type": "stream",
     "text": [
      "1 Train accuracy: 0.1700, Test accuracy: 0.1615\n",
      "2 Train accuracy: 0.1690, Test accuracy: 0.1615\n",
      "3 Train accuracy: 0.1790, Test accuracy: 0.1615\n",
      "4 Train accuracy: 0.1650, Test accuracy: 0.1615\n",
      "5 Train accuracy: 0.1550, Test accuracy: 0.1615\n",
      "6 Train accuracy: 0.1800, Test accuracy: 0.1615\n",
      "7 Train accuracy: 0.1780, Test accuracy: 0.1615\n",
      "8 Train accuracy: 0.1750, Test accuracy: 0.1615\n",
      "9 Train accuracy: 0.1640, Test accuracy: 0.1615\n",
      "10 Train accuracy: 0.1610, Test accuracy: 0.1615\n",
      "11 Train accuracy: 0.1670, Test accuracy: 0.1615\n",
      "12 Train accuracy: 0.1840, Test accuracy: 0.1615\n",
      "13 Train accuracy: 0.1630, Test accuracy: 0.1615\n",
      "14 Train accuracy: 0.2010, Test accuracy: 0.1615\n",
      "15 Train accuracy: 0.1700, Test accuracy: 0.1615\n",
      "16 Train accuracy: 0.1820, Test accuracy: 0.1615\n",
      "17 Train accuracy: 0.1740, Test accuracy: 0.1615\n",
      "18 Train accuracy: 0.1440, Test accuracy: 0.1615\n",
      "19 Train accuracy: 0.1680, Test accuracy: 0.1615\n",
      "20 Train accuracy: 0.1700, Test accuracy: 0.1615\n"
     ]
    }
   ],
   "source": [
    "n_epochs = 40\n",
    "batch_size = 50\n",
    "\n",
    "with tf.Session() as sess:\n",
    "    init.run()\n",
    "    \n",
    "    for epoch in range(n_epochs):\n",
    "        for iteration in range(X_train.shape[0] // batch_size):\n",
    "            X_batch, y_batch = mnist2.train.next_batch(batch_size)\n",
    "            sess.run(training_op, feed_dict={X: X_batch, y: y_batch})\n",
    "            pass\n",
    "        \n",
    "        accuracy_val, loss_val, accuracy_summary_str, loss_summary_str = sess.run([accuracy, loss, accuracy_summary, loss_summary], \n",
    "                                                                                  feed_dict={X: X_val, y: y_val})\n",
    "        file_writer.add_summary(accuracy_summary_str, epoch)\n",
    "        file_writer.add_summary(loss_summary_str, epoch)\n",
    "        \n",
    "        acc_train = accuracy.eval(feed_dict={X: X_batch, y: y_batch})\n",
    "        acc_test = accuracy.eval(feed_dict={X: X_test, y: y_test})\n",
    "        print (epoch+1), \"Train accuracy: %.4f, Test accuracy: %.4f\" % (acc_train, acc_test)\n",
    "        pass\n",
    "\n",
    "    save_path = saver.save(sess, \"./model5.ckpt\")\n",
    "    pass"
   ]
  },
  {
   "cell_type": "code",
   "execution_count": 8,
   "metadata": {
    "collapsed": false
   },
   "outputs": [
    {
     "name": "stdout",
     "output_type": "stream",
     "text": [
      "INFO:tensorflow:Restoring parameters from ./model5.ckpt\n"
     ]
    }
   ],
   "source": [
    "with tf.Session() as sess:\n",
    "    saver.restore(sess, \"./model5.ckpt\")\n",
    "    X_new = X_val[:10]\n",
    "    y_new = y_val[:10]\n",
    "    Z = logits.eval(session = sess, feed_dict={X: X_new})\n",
    "    y_pred = np.argmax(Z, axis=1)"
   ]
  },
  {
   "cell_type": "code",
   "execution_count": 9,
   "metadata": {
    "collapsed": false
   },
   "outputs": [
    {
     "name": "stdout",
     "output_type": "stream",
     "text": [
      "('Predicted classes:', array([0, 0, 7, 6, 7, 9, 9, 8, 0, 7]))\n",
      "('Actual classes:   ', array([5, 0, 4, 1, 9, 2, 1, 3, 1, 4]))\n"
     ]
    }
   ],
   "source": [
    "print(\"Predicted classes:\", y_pred)\n",
    "print(\"Actual classes:   \", y_new)"
   ]
  }
 ],
 "metadata": {
  "kernelspec": {
   "display_name": "Python 2",
   "language": "python",
   "name": "python2"
  },
  "language_info": {
   "codemirror_mode": {
    "name": "ipython",
    "version": 2
   },
   "file_extension": ".py",
   "mimetype": "text/x-python",
   "name": "python",
   "nbconvert_exporter": "python",
   "pygments_lexer": "ipython2",
   "version": "2.7.13"
  }
 },
 "nbformat": 4,
 "nbformat_minor": 2
}
