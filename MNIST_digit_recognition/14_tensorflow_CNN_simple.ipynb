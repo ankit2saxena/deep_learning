{
 "cells": [
  {
   "cell_type": "code",
   "execution_count": 1,
   "metadata": {
    "collapsed": false
   },
   "outputs": [
    {
     "name": "stdout",
     "output_type": "stream",
     "text": [
      "Extracting /tmp/data/train-images-idx3-ubyte.gz\n",
      "Extracting /tmp/data/train-labels-idx1-ubyte.gz\n",
      "Extracting /tmp/data/t10k-images-idx3-ubyte.gz\n",
      "Extracting /tmp/data/t10k-labels-idx1-ubyte.gz\n"
     ]
    }
   ],
   "source": [
    "from tensorflow.examples.tutorials.mnist import input_data\n",
    "mnist2 = input_data.read_data_sets(\"/tmp/data/\")\n",
    "\n",
    "X_train = mnist2.train.images\n",
    "X_test = mnist2.test.images\n",
    "X_val = mnist2.validation.images\n",
    "\n",
    "y_train = mnist2.train.labels.astype(\"int\")\n",
    "y_test = mnist2.test.labels.astype(\"int\")\n",
    "y_val = mnist2.validation.labels.astype(\"int\")\n",
    "\n",
    "import tensorflow as tf\n",
    "import numpy as np\n",
    "import matplotlib.pyplot as plt\n",
    "%matplotlib inline\n",
    "\n",
    "np.random.seed(100)\n",
    "tf.reset_default_graph()\n",
    "tf.set_random_seed(100)\n",
    "\n",
    "def plot_digit(data):\n",
    "    image = data.reshape(28, 28)\n",
    "    plt.imshow(image, cmap = 'Greys', interpolation=\"nearest\")\n",
    "    plt.axis(\"off\")\n",
    "    pass"
   ]
  },
  {
   "cell_type": "code",
   "execution_count": 2,
   "metadata": {
    "collapsed": false
   },
   "outputs": [
    {
     "data": {
      "image/png": "[encoded data removed]",
      "text/plain": [
       "<matplotlib.figure.Figure at 0x7fd80672a910>"
      ]
     },
     "metadata": {},
     "output_type": "display_data"
    }
   ],
   "source": [
    "plot_digit(X_train[20000])"
   ]
  },
  {
   "cell_type": "code",
   "execution_count": 3,
   "metadata": {
    "collapsed": true
   },
   "outputs": [],
   "source": [
    "n_inputs = 28 * 28\n",
    "channels = 1\n",
    "\n",
    "conv1_fmaps = 32\n",
    "conv1_ksize = 3\n",
    "conv1_stride = 1\n",
    "conv1_pad = 'SAME'\n",
    "\n",
    "conv2_fmaps = 64\n",
    "conv2_ksize = 3\n",
    "conv2_stride = 2\n",
    "conv2_pad = 'SAME'\n",
    "\n",
    "pool3_fmaps = conv2_fmaps\n",
    "\n",
    "n_fc1 = 64\n",
    "n_outputs = 10"
   ]
  },
  {
   "cell_type": "markdown",
   "metadata": {},
   "source": [
    "# CNN"
   ]
  },
  {
   "cell_type": "code",
   "execution_count": 4,
   "metadata": {
    "collapsed": false
   },
   "outputs": [],
   "source": [
    "with tf.name_scope('inputs'):\n",
    "    X = tf.placeholder(tf.float32, shape = [None, n_inputs], name = 'X')\n",
    "    X_reshaped = tf.reshape(X, shape = [-1, 28, 28, channels])\n",
    "    y = tf.placeholder(tf.int32, shape = [None], name = 'y')\n",
    "    pass\n",
    "\n",
    "conv1 = tf.layers.conv2d(X_reshaped, filters = conv1_fmaps, kernel_size = conv1_ksize, \n",
    "                         strides = conv1_stride, padding = conv1_pad,\n",
    "                         activation = tf.nn.relu, name = 'conv1')\n",
    "\n",
    "conv2 = tf.layers.conv2d(conv1, filters = conv2_fmaps, kernel_size = conv2_ksize, \n",
    "                         strides = conv2_stride, padding = conv2_pad,\n",
    "                         activation = tf.nn.relu, name = 'conv2')\n",
    "\n",
    "with tf.name_scope('pool3'):\n",
    "    pool3 = tf.nn.max_pool(conv2, ksize = [1, 2, 2, 1], strides = [1, 2, 2, 1], padding = 'VALID')\n",
    "    pool3_flat = tf.reshape(pool3, shape = [-1, pool3_fmaps * 7 * 7])\n",
    "    pass\n",
    "\n",
    "with tf.name_scope(\"full1\"):\n",
    "    full1 = tf.layers.dense(pool3_flat, n_fc1, activation=tf.nn.relu, name=\"fc1\")\n",
    "    pass\n",
    "\n",
    "with tf.name_scope(\"output\"):\n",
    "    logits = tf.layers.dense(full1, n_outputs, name=\"output\")\n",
    "    Y_proba = tf.nn.softmax(logits, name=\"Y_proba\")\n",
    "    pass\n",
    "\n",
    "with tf.name_scope(\"loss\"):\n",
    "    xentropy = tf.nn.sparse_softmax_cross_entropy_with_logits(logits=logits, labels=y)\n",
    "    loss = tf.reduce_mean(xentropy)\n",
    "    loss_summary = tf.summary.scalar('log_loss', loss)\n",
    "    pass\n",
    "\n",
    "with tf.name_scope(\"train\"):    \n",
    "    optimizer = tf.train.AdamOptimizer()\n",
    "    training_op = optimizer.minimize(loss)\n",
    "    pass\n",
    "\n",
    "with tf.name_scope(\"eval\"):\n",
    "    correct = tf.nn.in_top_k(logits, y, 1)\n",
    "    accuracy = tf.reduce_mean(tf.cast(correct, tf.float32))\n",
    "    accuracy_summary = tf.summary.scalar('accuracy', accuracy)\n",
    "    pass\n",
    "\n",
    "with tf.name_scope(\"init_and_save\"):\n",
    "    init = tf.global_variables_initializer()\n",
    "    saver = tf.train.Saver()\n",
    "    file_writer = tf.summary.FileWriter('/tmp/model/mnist_dnn-cnn_simple', tf.get_default_graph())\n",
    "    pass\n"
   ]
  },
  {
   "cell_type": "code",
   "execution_count": 5,
   "metadata": {
    "collapsed": false
   },
   "outputs": [
    {
     "name": "stdout",
     "output_type": "stream",
     "text": [
      "1 Train accuracy: 1.0000, Test accuracy: 0.9765\n",
      "2 Train accuracy: 0.9600, Test accuracy: 0.9848\n",
      "3 Train accuracy: 1.0000, Test accuracy: 0.9890\n",
      "4 Train accuracy: 1.0000, Test accuracy: 0.9880\n",
      "5 Train accuracy: 1.0000, Test accuracy: 0.9882\n",
      "6 Train accuracy: 1.0000, Test accuracy: 0.9901\n",
      "7 Train accuracy: 1.0000, Test accuracy: 0.9898\n",
      "8 Train accuracy: 1.0000, Test accuracy: 0.9900\n",
      "9 Train accuracy: 1.0000, Test accuracy: 0.9892\n",
      "10 Train accuracy: 1.0000, Test accuracy: 0.9897\n"
     ]
    }
   ],
   "source": [
    "n_epochs = 10\n",
    "batch_size = 50\n",
    "\n",
    "with tf.Session() as sess:\n",
    "    init.run()\n",
    "    \n",
    "    for epoch in range(n_epochs):\n",
    "        for iteration in range(X_train.shape[0] // batch_size):\n",
    "            X_batch, y_batch = mnist2.train.next_batch(batch_size)\n",
    "            sess.run(training_op, feed_dict={X: X_batch, y: y_batch})\n",
    "            pass\n",
    "        \n",
    "        accuracy_val, loss_val, accuracy_summary_str, loss_summary_str = sess.run([accuracy, loss, accuracy_summary, loss_summary], \n",
    "                                                                                  feed_dict={X: X_val, y: y_val})\n",
    "        file_writer.add_summary(accuracy_summary_str, epoch)\n",
    "        file_writer.add_summary(loss_summary_str, epoch)\n",
    "        \n",
    "        acc_train = accuracy.eval(feed_dict={X: X_batch, y: y_batch})\n",
    "        acc_test = accuracy.eval(feed_dict={X: X_test, y: y_test})\n",
    "        print (epoch+1), \"Train accuracy: %.4f, Test accuracy: %.4f\" % (acc_train, acc_test)\n",
    "        pass\n",
    "\n",
    "    save_path = saver.save(sess, \"./model9.ckpt\")\n",
    "    pass"
   ]
  },
  {
   "cell_type": "code",
   "execution_count": 6,
   "metadata": {
    "collapsed": false
   },
   "outputs": [
    {
     "name": "stdout",
     "output_type": "stream",
     "text": [
      "INFO:tensorflow:Restoring parameters from ./model9.ckpt\n"
     ]
    }
   ],
   "source": [
    "with tf.Session() as sess:\n",
    "    saver.restore(sess, \"./model9.ckpt\")\n",
    "    X_new = X_val[:10]\n",
    "    y_new = y_val[:10]\n",
    "    Z = logits.eval(session = sess, feed_dict={X: X_new})\n",
    "    y_pred = np.argmax(Z, axis=1)"
   ]
  },
  {
   "cell_type": "code",
   "execution_count": 7,
   "metadata": {
    "collapsed": false
   },
   "outputs": [
    {
     "name": "stdout",
     "output_type": "stream",
     "text": [
      "('Predicted classes:', array([5, 0, 4, 1, 9, 2, 1, 3, 1, 4]))\n",
      "('Actual classes:   ', array([5, 0, 4, 1, 9, 2, 1, 3, 1, 4]))\n"
     ]
    }
   ],
   "source": [
    "print(\"Predicted classes:\", y_pred)\n",
    "print(\"Actual classes:   \", y_new)"
   ]
  }
 ],
 "metadata": {
  "kernelspec": {
   "display_name": "Python 2",
   "language": "python",
   "name": "python2"
  },
  "language_info": {
   "codemirror_mode": {
    "name": "ipython",
    "version": 2
   },
   "file_extension": ".py",
   "mimetype": "text/x-python",
   "name": "python",
   "nbconvert_exporter": "python",
   "pygments_lexer": "ipython2",
   "version": "2.7.13"
  }
 },
 "nbformat": 4,
 "nbformat_minor": 2
}
